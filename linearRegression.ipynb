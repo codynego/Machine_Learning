{
  "nbformat": 4,
  "nbformat_minor": 0,
  "metadata": {
    "colab": {
      "provenance": [],
      "authorship_tag": "ABX9TyNEDycg6KtFZT+qP/PmlgUf",
      "include_colab_link": true
    },
    "kernelspec": {
      "name": "python3",
      "display_name": "Python 3"
    },
    "language_info": {
      "name": "python"
    }
  },
  "cells": [
    {
      "cell_type": "markdown",
      "metadata": {
        "id": "view-in-github",
        "colab_type": "text"
      },
      "source": [
        "<a href=\"https://colab.research.google.com/github/codynego/Machine_Learning/blob/main/linearRegression.ipynb\" target=\"_parent\"><img src=\"https://colab.research.google.com/assets/colab-badge.svg\" alt=\"Open In Colab\"/></a>"
      ]
    },
    {
      "cell_type": "markdown",
      "source": [
        "# **Implement linear regression from scratch**"
      ],
      "metadata": {
        "id": "Llfvi0F0C8da"
      }
    },
    {
      "cell_type": "code",
      "source": [
        "import numpy as np"
      ],
      "metadata": {
        "id": "29I3eZkoDdDz"
      },
      "execution_count": null,
      "outputs": []
    },
    {
      "cell_type": "code",
      "execution_count": null,
      "metadata": {
        "id": "RcKG-zejCzhU"
      },
      "outputs": [],
      "source": [
        "class LinearRegression:\n",
        "  def __init__(self, iter=100, learning_rate=0.001):\n",
        "    self.iter = iter\n",
        "    self.lr = learning_rate\n",
        "    self.weights = None\n",
        "    self.bias = 0\n",
        "\n",
        "  def fit(X, y):\n",
        "    self.n_sample, self.n_features = X.shape\n",
        "    self.weights = np.zeros(n_features)\n",
        "\n",
        "    y_pred = self.predict(X)\n",
        "    cost = computeCost(y_pred, y)\n",
        "\n",
        "\n",
        "    pass\n",
        "\n",
        "  def predict(x):\n",
        "    y_pred = np.dot(X, self.weights) + self.bias\n",
        "    return y_pred\n",
        "\n",
        "  def computeCost(y_pred, y):\n",
        "    cost = (1/2) * np.sum(y - y_pred)**2\n",
        "    return cost\n",
        "\n",
        "  def GradientDescent():\n",
        ""
      ]
    }
  ]
}